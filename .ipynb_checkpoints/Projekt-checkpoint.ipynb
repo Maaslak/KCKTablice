{
 "cells": [
  {
   "cell_type": "code",
   "execution_count": 169,
   "metadata": {},
   "outputs": [
    {
     "name": "stdout",
     "output_type": "stream",
     "text": [
      "tablica1\n",
      "tablica2\n",
      "tablica3\n",
      "tablica4\n",
      "tablica5\n",
      "tablica6\n",
      "tablica7\n",
      "tablica8\n",
      "tablica9\n",
      "tablica10\n",
      "tablica11\n",
      "tablica12\n",
      "tablica13\n",
      "tablica14\n",
      "tablica15\n"
     ]
    }
   ],
   "source": [
    "import cv2\n",
    "import numpy as np\n",
    "\n",
    "def nasyc(img):\n",
    "    [[cell for cell in row] for row in img][2]=255\n",
    "    return img\n",
    "\n",
    "def main():\n",
    "    kernel = np.ones((2,2),np.uint8)\n",
    "    tablice = []\n",
    "    for i in range(1,16):\n",
    "        tablice.append(\"tablica\" + str(i))\n",
    "        zdjecie=cv2.imread(tablice[i-1])\n",
    "        zdjecie=cv2.cvtColor(zdjecie,cv2.COLOR_BGR2HSV)\n",
    "        #cv2.imshow(\"begin\", nasyc(zdjecie))\n",
    "        \n",
    "        low=np.array([0,0,25])\n",
    "        high=np.array([360,50,250])   \n",
    "        low2=np.array([100,60,20])\n",
    "        high2=np.array([130,255,250])\n",
    "        \n",
    "        maska=cv2.inRange(zdjecie,low,high)\n",
    "        maska2=cv2.inRange(zdjecie,low2,high2)\n",
    "        res=cv2.bitwise_and(zdjecie,zdjecie,mask=maskafinal)\n",
    "        res=cv2.cvtColor(res,cv2.COLOR_HSV2BGR)\n",
    "        #res,thresh=cv2.threshold(res,128,255,cv2.THRESH_BINARY)\n",
    "        #thresh=res\n",
    "        #thresh=cv2.morphologyEx(res,cv2.MORPH_CLOSE,kernel)\n",
    "        #cv2.imshow(\"thresh000\",thresh)\n",
    "        #thresh=cv2.Canny(thresh,len(thresh),len(thresh[0]))\n",
    "\n",
    "    \n",
    "        #cv2.imshow(\"zdjecie\",zdjecie)\n",
    "        #cv2.imshow(\"maska\",maskafinal)\n",
    "        #cv2.imshow(\"maska2\",maska2)\n",
    "        #cv2.imshow(\"res\",res)\n",
    "        #cv2.imshow(\"thresh\",thresh)\n",
    "        \n",
    "        #cv2.waitKey(0)\n",
    "    \n",
    "    \n",
    "if __name__==\"__main__\":\n",
    "    main()"
   ]
  },
  {
   "cell_type": "code",
   "execution_count": null,
   "metadata": {
    "collapsed": true
   },
   "outputs": [],
   "source": []
  }
 ],
 "metadata": {
  "kernelspec": {
   "display_name": "Python 3",
   "language": "python",
   "name": "python3"
  },
  "language_info": {
   "codemirror_mode": {
    "name": "ipython",
    "version": 3
   },
   "file_extension": ".py",
   "mimetype": "text/x-python",
   "name": "python",
   "nbconvert_exporter": "python",
   "pygments_lexer": "ipython3",
   "version": "3.6.3"
  }
 },
 "nbformat": 4,
 "nbformat_minor": 2
}
