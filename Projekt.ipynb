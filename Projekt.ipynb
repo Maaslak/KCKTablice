{
 "cells": [
  {
   "cell_type": "code",
   "execution_count": 184,
   "metadata": {},
   "outputs": [
    {
     "name": "stdout",
     "output_type": "stream",
     "text": [
      "Samochody_zrodlo/sam1.png\n",
      "[139 145 152]\n",
      "Samochody_zrodlo/sam2.png\n",
      "[180 197 193]\n",
      "Samochody_zrodlo/sam3.png\n",
      "[76 83 78]\n",
      "Samochody_zrodlo/sam4.png\n",
      "[74 71 67]\n",
      "Samochody_zrodlo/sam5.png\n",
      "[139 133 128]\n",
      "Samochody_zrodlo/sam6.png\n",
      "[0 0 0]\n",
      "Samochody_zrodlo/sam7.png\n",
      "[83 85 85]\n",
      "Samochody_zrodlo/sam8.png\n",
      "[0 0 0]\n",
      "Samochody_zrodlo/sam9.png\n",
      "[58 62 67]\n",
      "Samochody_zrodlo/sam10.png\n"
     ]
    },
    {
     "ename": "error",
     "evalue": "D:\\Build\\OpenCV\\opencv-3.3.1\\modules\\imgproc\\src\\color.cpp:11115: error: (-215) (scn == 3 || scn == 4) && (depth == 0 || depth == 5) in function cv::cvtColor\n",
     "output_type": "error",
     "traceback": [
      "\u001b[1;31m---------------------------------------------------------------------------\u001b[0m",
      "\u001b[1;31merror\u001b[0m                                     Traceback (most recent call last)",
      "\u001b[1;32m<ipython-input-184-68ee8cabcab8>\u001b[0m in \u001b[0;36m<module>\u001b[1;34m()\u001b[0m\n\u001b[0;32m     53\u001b[0m \u001b[1;33m\u001b[0m\u001b[0m\n\u001b[0;32m     54\u001b[0m \u001b[1;32mif\u001b[0m \u001b[0m__name__\u001b[0m\u001b[1;33m==\u001b[0m\u001b[1;34m\"__main__\"\u001b[0m\u001b[1;33m:\u001b[0m\u001b[1;33m\u001b[0m\u001b[0m\n\u001b[1;32m---> 55\u001b[1;33m     \u001b[0mmain\u001b[0m\u001b[1;33m(\u001b[0m\u001b[1;33m)\u001b[0m\u001b[1;33m\u001b[0m\u001b[0m\n\u001b[0m",
      "\u001b[1;32m<ipython-input-184-68ee8cabcab8>\u001b[0m in \u001b[0;36mmain\u001b[1;34m()\u001b[0m\n\u001b[0;32m     15\u001b[0m         \u001b[0mzdjecie\u001b[0m\u001b[1;33m=\u001b[0m\u001b[0mcv2\u001b[0m\u001b[1;33m.\u001b[0m\u001b[0mimread\u001b[0m\u001b[1;33m(\u001b[0m\u001b[0mtablica\u001b[0m\u001b[1;33m)\u001b[0m\u001b[1;33m\u001b[0m\u001b[0m\n\u001b[0;32m     16\u001b[0m \u001b[1;33m\u001b[0m\u001b[0m\n\u001b[1;32m---> 17\u001b[1;33m         \u001b[0mzdjecie\u001b[0m\u001b[1;33m=\u001b[0m\u001b[0mcv2\u001b[0m\u001b[1;33m.\u001b[0m\u001b[0mcvtColor\u001b[0m\u001b[1;33m(\u001b[0m\u001b[0mzdjecie\u001b[0m\u001b[1;33m,\u001b[0m\u001b[0mcv2\u001b[0m\u001b[1;33m.\u001b[0m\u001b[0mCOLOR_BGR2HSV\u001b[0m\u001b[1;33m)\u001b[0m\u001b[1;33m\u001b[0m\u001b[0m\n\u001b[0m\u001b[0;32m     18\u001b[0m         \u001b[1;31m#cv2.imshow(\"begin\", nasyc(zdjecie))\u001b[0m\u001b[1;33m\u001b[0m\u001b[1;33m\u001b[0m\u001b[0m\n\u001b[0;32m     19\u001b[0m \u001b[1;33m\u001b[0m\u001b[0m\n",
      "\u001b[1;31merror\u001b[0m: D:\\Build\\OpenCV\\opencv-3.3.1\\modules\\imgproc\\src\\color.cpp:11115: error: (-215) (scn == 3 || scn == 4) && (depth == 0 || depth == 5) in function cv::cvtColor\n"
     ]
    }
   ],
   "source": [
    "import cv2\n",
    "import numpy as np\n",
    "\n",
    "def nasyc(img):\n",
    "    [[cell for cell in row] for row in img][2]=255\n",
    "    return img\n",
    "\n",
    "def main():\n",
    "    kernel = np.ones((2,2),np.uint8)\n",
    "    tablice = []\n",
    "    for i in range(1,17):\n",
    "        tablice.append(\"Samochody_zrodlo/sam\" + str(i) + \".png\")\n",
    "    for tablica in tablice:\n",
    "        print(tablica)\n",
    "        zdjecie=cv2.imread(tablica)\n",
    "        \n",
    "        zdjecie=cv2.cvtColor(zdjecie,cv2.COLOR_BGR2HSV)\n",
    "        #cv2.imshow(\"begin\", nasyc(zdjecie))\n",
    "        \n",
    "        low=np.array([0,0,25])\n",
    "        high=np.array([360,50,250])   \n",
    "        low2=np.array([100,60,20])\n",
    "        high2=np.array([130,255,250])\n",
    "        \n",
    "        maska=cv2.inRange(zdjecie,low,high)\n",
    "        maska2=cv2.inRange(zdjecie,low2,high2)\n",
    "        \n",
    "        res=cv2.bitwise_and(zdjecie,zdjecie,mask=maska)\n",
    "        res=cv2.cvtColor(res,cv2.COLOR_HSV2BGR)\n",
    "        \n",
    "        print(res[0][0])\n",
    "        \n",
    "        res2=cv2.bitwise_and(zdjecie,zdjecie,mask=maska2)\n",
    "        res2=cv2.cvtColor(res2,cv2.COLOR_HSV2BGR)\n",
    "        \n",
    "        cv2.imwrite(\"Samochody/B\" + tablica, res )\n",
    "        cv2.imwrite(\"Samochody/N\" + tablica, res2 )\n",
    "        #res,thresh=cv2.threshold(res,128,255,cv2.THRESH_BINARY)\n",
    "        #thresh=res\n",
    "        #thresh=cv2.morphologyEx(res,cv2.MORPH_CLOSE,kernel)\n",
    "        #cv2.imshow(\"thresh000\",thresh)\n",
    "        #thresh=cv2.Canny(thresh,len(thresh),len(thresh[0]))\n",
    "\n",
    "    \n",
    "        #cv2.imshow(\"zdjecie\",zdjecie)\n",
    "        #cv2.imshow(\"maska\",maskafinal)\n",
    "        #cv2.imshow(\"maska2\",maska2)\n",
    "        #cv2.imshow(\"res\",res)\n",
    "        #cv2.imshow(\"thresh\",thresh)\n",
    "        \n",
    "        #cv2.waitKey(0)\n",
    "    \n",
    "    \n",
    "if __name__==\"__main__\":\n",
    "    main()"
   ]
  },
  {
   "cell_type": "code",
   "execution_count": null,
   "metadata": {
    "collapsed": true
   },
   "outputs": [],
   "source": []
  }
 ],
 "metadata": {
  "kernelspec": {
   "display_name": "Python 3",
   "language": "python",
   "name": "python3"
  },
  "language_info": {
   "codemirror_mode": {
    "name": "ipython",
    "version": 3
   },
   "file_extension": ".py",
   "mimetype": "text/x-python",
   "name": "python",
   "nbconvert_exporter": "python",
   "pygments_lexer": "ipython3",
   "version": "3.6.3"
  }
 },
 "nbformat": 4,
 "nbformat_minor": 2
}
