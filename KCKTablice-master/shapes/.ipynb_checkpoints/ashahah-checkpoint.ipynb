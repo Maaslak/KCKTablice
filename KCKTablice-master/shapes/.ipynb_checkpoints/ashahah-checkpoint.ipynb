{
 "cells": [
  {
   "cell_type": "code",
   "execution_count": 41,
   "metadata": {
    "collapsed": false,
    "deletable": true,
    "editable": true
   },
   "outputs": [],
   "source": [
    "import cv2\n",
    " \n",
    "num_down = 2       # number of downsampling steps\n",
    "num_bilateral = 7  # number of bilateral filtering steps\n",
    " \n",
    "img_rgb = cv2.imread(\"1.jpg\")\n",
    " \n",
    "# downsample image using Gaussian pyramid\n",
    "img_color = img_rgb\n",
    "for _ in xrange(num_down):\n",
    "    img_color = cv2.pyrDown(img_color)\n",
    " \n",
    "# repeatedly apply small bilateral filter instead of\n",
    "# applying one large filter\n",
    "for _ in xrange(num_bilateral):\n",
    "    img_color = cv2.bilateralFilter(img_color, d=9,sigmaColor=9,sigmaSpace=7)\n",
    " \n",
    "# upsample image to original size\n",
    "for _ in xrange(num_down):\n",
    "    img_color = cv2.pyrUp(img_color)\n",
    "    \n",
    "# convert to grayscale and apply median blur\n",
    "img_gray = cv2.cvtColor(img_rgb, cv2.COLOR_RGB2GRAY)\n",
    "img_blur = cv2.medianBlur(img_gray, 7)\n",
    "\n",
    "# detect and enhance edges\n",
    "img_edge = cv2.adaptiveThreshold(img_blur, 255,cv2.ADAPTIVE_THRESH_MEAN_C,cv2.THRESH_BINARY,blockSize=9,C=2)\n",
    "\n",
    "# convert back to color, bit-AND with color image\n",
    "img_edge = cv2.cvtColor(img_edge, cv2.COLOR_GRAY2RGB)\n",
    "img_cartoon = cv2.bitwise_and(img_color, img_edge)\n",
    " \n",
    "# display\n",
    "cv2.imshow(\"cartoon\", img_cartoon)"
   ]
  }
 ],
 "metadata": {
  "kernelspec": {
   "display_name": "Python 2",
   "language": "python",
   "name": "python2"
  },
  "language_info": {
   "codemirror_mode": {
    "name": "ipython",
    "version": 2
   },
   "file_extension": ".py",
   "mimetype": "text/x-python",
   "name": "python",
   "nbconvert_exporter": "python",
   "pygments_lexer": "ipython2",
   "version": "2.7.13"
  }
 },
 "nbformat": 4,
 "nbformat_minor": 2
}
